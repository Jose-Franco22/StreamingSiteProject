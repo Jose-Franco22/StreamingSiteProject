{
 "cells": [
  {
   "cell_type": "markdown",
   "id": "bf313401-2ec9-4092-8360-4aeb2f042bdd",
   "metadata": {},
   "source": [
    "\n",
    "<div style=\"background-color: blue; padding: 10px; border-radius: 8px;\">\n",
    "    <strong>Install python packages into the jupyter kernel</strong><br>\n",
    "\n",
    "</div>\n",
    "\n",
    "\n"
   ]
  },
  {
   "cell_type": "code",
   "execution_count": 9,
   "id": "82954a84-9cdc-4055-8a88-60f772d08fad",
   "metadata": {},
   "outputs": [
    {
     "name": "stdout",
     "output_type": "stream",
     "text": [
      "Defaulting to user installation because normal site-packages is not writeable\n",
      "Requirement already satisfied: pandas in /home/frank/.local/lib/python3.10/site-packages (2.2.3)\n",
      "Requirement already satisfied: numpy in /home/frank/.local/lib/python3.10/site-packages (1.26.4)\n",
      "Requirement already satisfied: seaborn in /home/frank/.local/lib/python3.10/site-packages (0.13.2)\n",
      "Requirement already satisfied: matplotlib in /usr/lib/python3/dist-packages (3.5.1)\n",
      "Requirement already satisfied: plotly in /home/frank/.local/lib/python3.10/site-packages (6.0.1)\n",
      "Requirement already satisfied: colorama in /usr/lib/python3/dist-packages (0.4.4)\n",
      "Requirement already satisfied: python-dateutil>=2.8.2 in /home/frank/.local/lib/python3.10/site-packages (from pandas) (2.9.0.post0)\n",
      "Requirement already satisfied: tzdata>=2022.7 in /home/frank/.local/lib/python3.10/site-packages (from pandas) (2025.2)\n",
      "Requirement already satisfied: pytz>=2020.1 in /usr/lib/python3/dist-packages (from pandas) (2022.1)\n",
      "Requirement already satisfied: narwhals>=1.15.1 in /home/frank/.local/lib/python3.10/site-packages (from plotly) (1.34.0)\n",
      "Requirement already satisfied: packaging in /home/frank/.local/lib/python3.10/site-packages (from plotly) (24.2)\n",
      "Requirement already satisfied: six>=1.5 in /usr/lib/python3/dist-packages (from python-dateutil>=2.8.2->pandas) (1.16.0)\n",
      "Note: you may need to restart the kernel to use updated packages.\n"
     ]
    }
   ],
   "source": [
    "%pip install pandas numpy seaborn matplotlib plotly colorama"
   ]
  },
  {
   "cell_type": "markdown",
   "id": "4ee6c0ca-584c-4916-9ca7-4820f19647a3",
   "metadata": {},
   "source": [
    "\n",
    "<div style=\"background-color: blue; padding: 10px; border-radius: 8px;\">\n",
    "    <strong>Import packages</strong><br>\n",
    "\n",
    "</div>\n",
    "\n"
   ]
  },
  {
   "cell_type": "code",
   "execution_count": 10,
   "id": "deba39cd-59f7-4f16-b99a-a5620db9fe92",
   "metadata": {},
   "outputs": [],
   "source": [
    "import pandas as pd\n",
    "import numpy as np\n",
    "import seaborn as sns\n",
    "import matplotlib.pyplot as plt\n",
    "%matplotlib inline\n",
    "import matplotlib.image as mpimg\n",
    "import math\n",
    "import plotly.express as px\n",
    "import plotly.graph_objects as go\n",
    "\n",
    "from matplotlib.offsetbox import (TextArea, DrawingArea, OffsetImage,\n",
    "                                  AnnotationBbox)\n",
    "from plotly.colors import n_colors\n",
    "from plotly.subplots import make_subplots\n",
    "from IPython.display import Image\n",
    "from colorama import Fore, Back, Style\n",
    "y_ = Fore.YELLOW\n",
    "r_ = Fore.RED\n",
    "g_ = Fore.GREEN\n",
    "b_ = Fore.BLUE\n",
    "m_ = Fore.MAGENTA\n",
    "sr_ = Style.RESET_ALL"
   ]
  },
  {
   "cell_type": "markdown",
   "id": "a77715ac-046c-49d3-a326-3d19eaf36939",
   "metadata": {},
   "source": [
    "\n",
    "<div style=\"background-color: red; padding: 10px; border-radius: 8px;\">\n",
    "    <strong>Code</strong><br>\n",
    "\n",
    "</div>\n",
    "\n"
   ]
  },
  {
   "cell_type": "code",
   "execution_count": null,
   "id": "4294a95a-9ab2-4a21-8a3e-48694e664313",
   "metadata": {},
   "outputs": [],
   "source": []
  },
  {
   "cell_type": "code",
   "execution_count": null,
   "id": "ccf37c5c-bfc8-4e49-add9-531e6e12994a",
   "metadata": {},
   "outputs": [],
   "source": []
  }
 ],
 "metadata": {
  "kernelspec": {
   "display_name": "Python 3 (ipykernel)",
   "language": "python",
   "name": "python3"
  },
  "language_info": {
   "codemirror_mode": {
    "name": "ipython",
    "version": 3
   },
   "file_extension": ".py",
   "mimetype": "text/x-python",
   "name": "python",
   "nbconvert_exporter": "python",
   "pygments_lexer": "ipython3",
   "version": "3.10.12"
  }
 },
 "nbformat": 4,
 "nbformat_minor": 5
}
